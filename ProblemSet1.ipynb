{
 "cells": [
  {
   "cell_type": "markdown",
   "id": "e48cf2e4",
   "metadata": {},
   "source": [
    "# Question 6 \n",
    "Python 16. You can turn a word into pig-Latin using the following two rules (simplified): \n",
    "\n",
    "• If the word starts with a consonant, move that letter to the end and append 'ay'. For example, 'happy' becomes 'appyhay' and 'pencil' becomes 'encilpay'. \n",
    "\n",
    "• If the word starts with a vowel, simply append 'way' to the end of the word. For example, 'enter' becomes 'enterway' and 'other' becomes 'otherway' . For our purposes, there are 5 vowels: a, e, i, o, u (so we count y as a consonant). Write a function pig() that takes a word (i.e., a string) as input and returns its pig- Latin form. Your function should still work if the input word contains upper case characters. Your output should always be lower case however. "
   ]
  },
  {
   "cell_type": "code",
   "execution_count": 4,
   "id": "299ce1e6",
   "metadata": {},
   "outputs": [],
   "source": [
    "def pig(word):\n",
    "    \n",
    "    vowel= ['a','e','i','o','u']\n",
    "    wordlc= word.lower()\n",
    "    \n",
    "    if wordlc[0] in vowel:\n",
    "        print(wordlc+'way')\n",
    "    else:\n",
    "        print(wordlc[1:]+wordlc[0]+'ay')"
   ]
  },
  {
   "cell_type": "code",
   "execution_count": 5,
   "id": "4bcb7352",
   "metadata": {},
   "outputs": [
    {
     "name": "stdout",
     "output_type": "stream",
     "text": [
      "appyhay\n"
     ]
    }
   ],
   "source": [
    "pig('happy')"
   ]
  },
  {
   "cell_type": "code",
   "execution_count": 6,
   "id": "f2807a46",
   "metadata": {},
   "outputs": [
    {
     "name": "stdout",
     "output_type": "stream",
     "text": [
      "enterway\n"
     ]
    }
   ],
   "source": [
    "pig('enter')"
   ]
  },
  {
   "cell_type": "markdown",
   "id": "83959f5b",
   "metadata": {},
   "source": [
    "# Question 7 \n",
    "\n",
    "Python File bloodtype1.txt records blood-types of patients (A, B, AB, O or OO) at a clinic. Write a function bldcount() that reads the file with name name and reports (i.e., prints) how many patients there are in each bloodtype. "
   ]
  },
  {
   "cell_type": "code",
   "execution_count": 21,
   "id": "f332f661",
   "metadata": {},
   "outputs": [],
   "source": [
    "def bldcount(filename):\n",
    "    infile=open(filename,'r')   #opens file passed as an argument\n",
    "    content=infile.read()      #add content into variable\n",
    "    \n",
    "    bloodCountList=content.split(\" \") #convert the content into list to use them in loop\n",
    "        \n",
    "    ab_count=0 #initializing count for the repeated occurance of blood type ab\n",
    "    a_count=0\n",
    "    b_count=0\n",
    "    o_count=0\n",
    "    oo_count=0\n",
    "    \n",
    "    for bloodtype in bloodCountList:\n",
    "        if bloodtype=='AB':\n",
    "            ab_count=ab_count+1\n",
    "            \n",
    "        if bloodtype=='A':\n",
    "            a_count=a_count+1\n",
    "            \n",
    "        if bloodtype=='B':\n",
    "            b_count=b_count+1\n",
    "        \n",
    "        if bloodtype=='O':\n",
    "            o_count=o_count+1\n",
    "            \n",
    "        if bloodtype=='OO':\n",
    "            oo_count=oo_count+1\n",
    "            \n",
    "    print('There are {} number of patients with blood type AB'.format(ab_count))\n",
    "    print('There are {} number of patients with blood type A'.format(a_count))\n",
    "    print('There are {} number of patients with blood type B.'.format(b_count))\n",
    "    print('There are {} number of patients with blood type O'.format(o_count))\n",
    "    print('There are {} number of patients with blood type OO. '.format(oo_count))\n",
    "    \n",
    "    infile.close()"
   ]
  },
  {
   "cell_type": "code",
   "execution_count": 22,
   "id": "3a5c0256",
   "metadata": {},
   "outputs": [
    {
     "name": "stdout",
     "output_type": "stream",
     "text": [
      "There are 13 number of patients with blood type AB\n",
      "There are 15 number of patients with blood type A\n",
      "There are 1 number of patients with blood type B.\n",
      "There are 15 number of patients with blood type O\n",
      "There are 0 number of patients with blood type OO. \n"
     ]
    }
   ],
   "source": [
    "bldcount('bloodtype1.txt')"
   ]
  },
  {
   "cell_type": "markdown",
   "id": "a6f01fe4",
   "metadata": {},
   "source": [
    "# Question 8 \n",
    "\n",
    "Python Write a function curconv() that takes as input:  \n",
    "\n",
    "1. a currency represented using a string (e.g., 'JPY' for the Japanese Yen or 'EUR' for the Euro) \n",
    "\n",
    "2. an amount  and then converts and returns the amount in US dollars. "
   ]
  },
  {
   "cell_type": "code",
   "execution_count": 25,
   "id": "3593ddd7",
   "metadata": {},
   "outputs": [],
   "source": [
    "def curconv(currency, amount):\n",
    "    infile=open(\"currencies.txt\",'r')\n",
    "    content=infile.read()\n",
    "    \n",
    "    infile.close()\n",
    "    \n",
    "    content=content.split('\\n')\n",
    "    for i in content:\n",
    "        if currency in i:\n",
    "            container = i.split('\\t')\n",
    "            print(container[0])\n",
    "            print(float(container[1]))\n",
    "            print(container[2])\n",
    "            exchanged_amount = float(container[1])*amount\n",
    "    return exchanged_amount   \n",
    "    "
   ]
  },
  {
   "cell_type": "code",
   "execution_count": 26,
   "id": "8b915de6",
   "metadata": {},
   "outputs": [
    {
     "name": "stdout",
     "output_type": "stream",
     "text": [
      "EUR\n",
      "1.2296544\n",
      "Euro\n"
     ]
    },
    {
     "data": {
      "text/plain": [
       "2.4593088"
      ]
     },
     "execution_count": 26,
     "metadata": {},
     "output_type": "execute_result"
    }
   ],
   "source": [
    "curconv(\"EUR\",2)"
   ]
  },
  {
   "cell_type": "code",
   "execution_count": 27,
   "id": "919faf04",
   "metadata": {},
   "outputs": [
    {
     "name": "stdout",
     "output_type": "stream",
     "text": [
      "JPY\n",
      "0.01241401\n",
      "Japanese Yen\n"
     ]
    },
    {
     "data": {
      "text/plain": [
       "1.241401"
      ]
     },
     "execution_count": 27,
     "metadata": {},
     "output_type": "execute_result"
    }
   ],
   "source": [
    "curconv(\"JPY\", 100)"
   ]
  },
  {
   "cell_type": "markdown",
   "id": "0efa633f",
   "metadata": {},
   "source": [
    "# Question 9 \n",
    "\n",
    "Python Each of the following will cause an exception (an error). Identify what type of exception each will cause. \n",
    "\n",
    "Trying to add incompatible variables, as in adding 6 + ‘a’"
   ]
  },
  {
   "cell_type": "code",
   "execution_count": 28,
   "id": "02dcc97c",
   "metadata": {},
   "outputs": [
    {
     "ename": "TypeError",
     "evalue": "unsupported operand type(s) for +: 'int' and 'str'",
     "output_type": "error",
     "traceback": [
      "\u001b[1;31m---------------------------------------------------------------------------\u001b[0m",
      "\u001b[1;31mTypeError\u001b[0m                                 Traceback (most recent call last)",
      "Cell \u001b[1;32mIn[28], line 1\u001b[0m\n\u001b[1;32m----> 1\u001b[0m \u001b[38;5;241m6\u001b[39m\u001b[38;5;241m+\u001b[39m\u001b[38;5;124m'\u001b[39m\u001b[38;5;124ma\u001b[39m\u001b[38;5;124m'\u001b[39m\n",
      "\u001b[1;31mTypeError\u001b[0m: unsupported operand type(s) for +: 'int' and 'str'"
     ]
    }
   ],
   "source": [
    "6+'a'"
   ]
  },
  {
   "cell_type": "markdown",
   "id": "fa4453e0",
   "metadata": {},
   "source": [
    "#### This will generate TypeError because integer and string cannot be added"
   ]
  },
  {
   "cell_type": "markdown",
   "id": "7de12c1f",
   "metadata": {},
   "source": [
    "Referring to the 12th item of a list that has only 10 items"
   ]
  },
  {
   "cell_type": "code",
   "execution_count": 29,
   "id": "8d177267",
   "metadata": {},
   "outputs": [
    {
     "ename": "IndexError",
     "evalue": "list index out of range",
     "output_type": "error",
     "traceback": [
      "\u001b[1;31m---------------------------------------------------------------------------\u001b[0m",
      "\u001b[1;31mIndexError\u001b[0m                                Traceback (most recent call last)",
      "Cell \u001b[1;32mIn[29], line 2\u001b[0m\n\u001b[0;32m      1\u001b[0m lst\u001b[38;5;241m=\u001b[39m\u001b[38;5;28mlist\u001b[39m(\u001b[38;5;28mrange\u001b[39m(\u001b[38;5;241m0\u001b[39m,\u001b[38;5;241m10\u001b[39m))\n\u001b[1;32m----> 2\u001b[0m lst[\u001b[38;5;241m12\u001b[39m]\n",
      "\u001b[1;31mIndexError\u001b[0m: list index out of range"
     ]
    }
   ],
   "source": [
    "lst=list(range(0,10))\n",
    "lst[12]"
   ]
  },
  {
   "cell_type": "markdown",
   "id": "9659ec0a",
   "metadata": {},
   "source": [
    "#### This will generate IndexError because there is no 12th element in the list"
   ]
  },
  {
   "cell_type": "markdown",
   "id": "d126291a",
   "metadata": {},
   "source": [
    "Using a value that is out of range for a function’s input, such as calling math.sqrt(-1.0) "
   ]
  },
  {
   "cell_type": "code",
   "execution_count": 30,
   "id": "cae8c8bb",
   "metadata": {},
   "outputs": [
    {
     "ename": "ValueError",
     "evalue": "math domain error",
     "output_type": "error",
     "traceback": [
      "\u001b[1;31m---------------------------------------------------------------------------\u001b[0m",
      "\u001b[1;31mValueError\u001b[0m                                Traceback (most recent call last)",
      "Cell \u001b[1;32mIn[30], line 2\u001b[0m\n\u001b[0;32m      1\u001b[0m \u001b[38;5;28;01mimport\u001b[39;00m \u001b[38;5;21;01mmath\u001b[39;00m\n\u001b[1;32m----> 2\u001b[0m math\u001b[38;5;241m.\u001b[39msqrt(\u001b[38;5;241m-\u001b[39m\u001b[38;5;241m1.0\u001b[39m)\n",
      "\u001b[1;31mValueError\u001b[0m: math domain error"
     ]
    }
   ],
   "source": [
    "import math\n",
    "math.sqrt(-1.0)"
   ]
  },
  {
   "cell_type": "markdown",
   "id": "076c8db5",
   "metadata": {},
   "source": [
    "#### This will generate ValueError because it doesnot accept negative values"
   ]
  },
  {
   "cell_type": "markdown",
   "id": "0bf181d3",
   "metadata": {},
   "source": [
    "Using an undeclared variable, such as print(x) when x has not been defined "
   ]
  },
  {
   "cell_type": "code",
   "execution_count": 31,
   "id": "1f087b00",
   "metadata": {},
   "outputs": [
    {
     "ename": "NameError",
     "evalue": "name 'x' is not defined",
     "output_type": "error",
     "traceback": [
      "\u001b[1;31m---------------------------------------------------------------------------\u001b[0m",
      "\u001b[1;31mNameError\u001b[0m                                 Traceback (most recent call last)",
      "Cell \u001b[1;32mIn[31], line 1\u001b[0m\n\u001b[1;32m----> 1\u001b[0m \u001b[38;5;28mprint\u001b[39m(x)\n",
      "\u001b[1;31mNameError\u001b[0m: name 'x' is not defined"
     ]
    }
   ],
   "source": [
    "print(x)"
   ]
  },
  {
   "cell_type": "markdown",
   "id": "cefb23f1",
   "metadata": {},
   "source": [
    "#### This will generate a NameError becaus|e 'x' is not predefined."
   ]
  },
  {
   "cell_type": "markdown",
   "id": "b4bd7d92",
   "metadata": {},
   "source": [
    "Trying to open a file that does not exist, such as mistyping the file name or looking in the wrong directory."
   ]
  },
  {
   "cell_type": "code",
   "execution_count": 32,
   "id": "1f711762",
   "metadata": {},
   "outputs": [
    {
     "ename": "FileNotFoundError",
     "evalue": "[Errno 2] No such file or directory: 'nofile.txt'",
     "output_type": "error",
     "traceback": [
      "\u001b[1;31m---------------------------------------------------------------------------\u001b[0m",
      "\u001b[1;31mFileNotFoundError\u001b[0m                         Traceback (most recent call last)",
      "Cell \u001b[1;32mIn[32], line 1\u001b[0m\n\u001b[1;32m----> 1\u001b[0m infile \u001b[38;5;241m=\u001b[39m \u001b[38;5;28mopen\u001b[39m(\u001b[38;5;124m'\u001b[39m\u001b[38;5;124mnofile.txt\u001b[39m\u001b[38;5;124m'\u001b[39m)\n",
      "File \u001b[1;32m~\\anaconda3\\Lib\\site-packages\\IPython\\core\\interactiveshell.py:284\u001b[0m, in \u001b[0;36m_modified_open\u001b[1;34m(file, *args, **kwargs)\u001b[0m\n\u001b[0;32m    277\u001b[0m \u001b[38;5;28;01mif\u001b[39;00m file \u001b[38;5;129;01min\u001b[39;00m {\u001b[38;5;241m0\u001b[39m, \u001b[38;5;241m1\u001b[39m, \u001b[38;5;241m2\u001b[39m}:\n\u001b[0;32m    278\u001b[0m     \u001b[38;5;28;01mraise\u001b[39;00m \u001b[38;5;167;01mValueError\u001b[39;00m(\n\u001b[0;32m    279\u001b[0m         \u001b[38;5;124mf\u001b[39m\u001b[38;5;124m\"\u001b[39m\u001b[38;5;124mIPython won\u001b[39m\u001b[38;5;124m'\u001b[39m\u001b[38;5;124mt let you open fd=\u001b[39m\u001b[38;5;132;01m{\u001b[39;00mfile\u001b[38;5;132;01m}\u001b[39;00m\u001b[38;5;124m by default \u001b[39m\u001b[38;5;124m\"\u001b[39m\n\u001b[0;32m    280\u001b[0m         \u001b[38;5;124m\"\u001b[39m\u001b[38;5;124mas it is likely to crash IPython. If you know what you are doing, \u001b[39m\u001b[38;5;124m\"\u001b[39m\n\u001b[0;32m    281\u001b[0m         \u001b[38;5;124m\"\u001b[39m\u001b[38;5;124myou can use builtins\u001b[39m\u001b[38;5;124m'\u001b[39m\u001b[38;5;124m open.\u001b[39m\u001b[38;5;124m\"\u001b[39m\n\u001b[0;32m    282\u001b[0m     )\n\u001b[1;32m--> 284\u001b[0m \u001b[38;5;28;01mreturn\u001b[39;00m io_open(file, \u001b[38;5;241m*\u001b[39margs, \u001b[38;5;241m*\u001b[39m\u001b[38;5;241m*\u001b[39mkwargs)\n",
      "\u001b[1;31mFileNotFoundError\u001b[0m: [Errno 2] No such file or directory: 'nofile.txt'"
     ]
    }
   ],
   "source": [
    "infile = open('nofile.txt')"
   ]
  },
  {
   "cell_type": "markdown",
   "id": "ff945034",
   "metadata": {},
   "source": [
    "#### This will generate a FileNotFoundError because there is no such file called nofile.txt"
   ]
  },
  {
   "cell_type": "markdown",
   "id": "df43ecd2",
   "metadata": {},
   "source": [
    "# Question 10 \n",
    "\n",
    "Python Encryption is the process of hiding the meaning of a text by substituting letters in the message with other letters, according to some system. If the process is successful, no one but the intended recipient can understand the encrypted message. Cryptanalysis refers to attempts to undo the encryption, even if some details of the encryption are unknown (for example, if an encrypted message has been intercepted). The first step of cryptanalysis is often to build up a table of letter frequencies in the encrypted text. Assume that the string letters is already defined as 'abcdefghijklmnopqrstuvwxyz'. \n",
    "\n",
    "Write a function called frequencies() that takes a string as its only parameter, and returns a list of integers, showing the number of times each character appears in the text. Your function may ignore any characters that are not in letters. "
   ]
  },
  {
   "cell_type": "code",
   "execution_count": 33,
   "id": "391f375c",
   "metadata": {},
   "outputs": [],
   "source": [
    "def frequencies(text):\n",
    "    letters = \"abcdefghijklmnopqrstuvwxyz\"\n",
    "    freq_list = []\n",
    "    text = text.lower()\n",
    "    \n",
    "    for char in letters:\n",
    "        count = 0\n",
    "        \n",
    "        for text_char in text:\n",
    "            if text_char == char:\n",
    "                count=count+1\n",
    "        freq_list.append(count)\n",
    "    return freq_list"
   ]
  },
  {
   "cell_type": "code",
   "execution_count": 34,
   "id": "cfccdf32",
   "metadata": {},
   "outputs": [],
   "source": [
    "result=frequencies('text')"
   ]
  },
  {
   "cell_type": "code",
   "execution_count": 35,
   "id": "879c94e2",
   "metadata": {},
   "outputs": [
    {
     "name": "stdout",
     "output_type": "stream",
     "text": [
      "[0, 0, 0, 0, 1, 0, 0, 0, 0, 0, 0, 0, 0, 0, 0, 0, 0, 0, 0, 2, 0, 0, 0, 1, 0, 0]\n"
     ]
    }
   ],
   "source": [
    "print(result)"
   ]
  },
  {
   "cell_type": "code",
   "execution_count": 36,
   "id": "a7c9750b",
   "metadata": {},
   "outputs": [],
   "source": [
    "result=frequencies('The quick red fox got bored and went home')"
   ]
  },
  {
   "cell_type": "code",
   "execution_count": 37,
   "id": "b1d28bb1",
   "metadata": {},
   "outputs": [
    {
     "name": "stdout",
     "output_type": "stream",
     "text": [
      "[1, 1, 1, 3, 5, 1, 1, 2, 1, 0, 1, 0, 1, 2, 4, 0, 1, 2, 0, 3, 1, 0, 1, 1, 0, 0]\n"
     ]
    }
   ],
   "source": [
    "print(result)"
   ]
  },
  {
   "cell_type": "code",
   "execution_count": null,
   "id": "87d3a33e",
   "metadata": {},
   "outputs": [],
   "source": []
  }
 ],
 "metadata": {
  "kernelspec": {
   "display_name": "Python 3 (ipykernel)",
   "language": "python",
   "name": "python3"
  },
  "language_info": {
   "codemirror_mode": {
    "name": "ipython",
    "version": 3
   },
   "file_extension": ".py",
   "mimetype": "text/x-python",
   "name": "python",
   "nbconvert_exporter": "python",
   "pygments_lexer": "ipython3",
   "version": "3.11.4"
  }
 },
 "nbformat": 4,
 "nbformat_minor": 5
}
