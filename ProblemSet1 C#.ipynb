{
 "cells": [
  {
   "cell_type": "markdown",
   "id": "7d00cbf7",
   "metadata": {},
   "source": [
    "# Question 1 C#\n",
    "What data type is each of the following?"
   ]
  },
  {
   "cell_type": "code",
   "execution_count": 1,
   "id": "0f03ff7d",
   "metadata": {},
   "outputs": [
    {
     "name": "stdout",
     "output_type": "stream",
     "text": [
      "5 is: System.Int32\n",
      "5.0 is: System.Double\n",
      "5>1 is: System.Boolean\n",
      "'5' is: System.Char\n",
      "5*2 is: System.Int32\n",
      "'5'*2 is: System.Int32\n",
      "'5'+'2' is: System.Int32\n",
      "5/2 is: System.Int32\n",
      "5 % 2 is: System.Int32\n",
      "int[] {5,2,1} is: System.Int32[]\n",
      "5 == 2 is: System.Boolean\n",
      "PI is: System.Double\n"
     ]
    }
   ],
   "source": [
    "static string getDataType(object value)\n",
    "{\n",
    "    return value.GetType().ToString();\n",
    "}\n",
    "\n",
    "Console.WriteLine(\"5 is: \" + getDataType(5));\n",
    "Console.WriteLine(\"5.0 is: \" + getDataType(5.0));\n",
    "Console.WriteLine(\"5>1 is: \" + getDataType(5 > 1));\n",
    "Console.WriteLine(\"'5' is: \" + getDataType('5'));\n",
    "Console.WriteLine(\"5*2 is: \" + getDataType(5 * 2));\n",
    "Console.WriteLine(\"'5'*2 is: \" + getDataType('5' * 2));\n",
    "Console.WriteLine(\"'5'+'2' is: \" + getDataType('5' + '2'));\n",
    "Console.WriteLine(\"5/2 is: \" + getDataType(5 / 2));\n",
    "Console.WriteLine(\"5 % 2 is: \" + getDataType(5 % 2));\n",
    "Console.WriteLine(\"int[] {5,2,1} is: \" + getDataType(new int[] { 5, 2, 1 }));\n",
    "Console.WriteLine(\"5 == 2 is: \" + getDataType(5 == 2));\n",
    "Console.WriteLine(\"PI is: \" + getDataType(Math.PI));\n",
    "\n",
    "/*\n",
    "5 -> int  (it is an integer Literal)\n",
    "5.0 -> double (this is a floating point literal with a decimal point)\n",
    "5 > 1 -> boolean (as it is a comparision operator, this will result in either true or false)\n",
    "'5' -> char (this is a character literal enclosed in a single quote)\n",
    "5 * 2 -> int (operation is performed, integer expression)\n",
    "'5' * 2 -> int (character multiplied by an integer results in integer output)\n",
    "'5' + '2' -> int (character addition results in integer)\n",
    "5 / 2 -> int (integer division)\n",
    "5 % 2 -> int (integer modulus operation)\n",
    "{5, 2, 1} -> int[] (array containing integers)\n",
    "5 == 3 -> boolean (comparision operator)\n",
    "Pi (the number) -> double (consists of decimal values)\n",
    "*/"
   ]
  },
  {
   "cell_type": "markdown",
   "id": "194dff01",
   "metadata": {},
   "source": [
    "# Question 2 C#\n",
    "Write (and evaluate) C# expressions that answer these questions:\n",
    "\n",
    "a. How many letters are there in 'Supercalifragilisticexpialidocious"
   ]
  },
  {
   "cell_type": "code",
   "execution_count": 2,
   "id": "4a94bf36",
   "metadata": {},
   "outputs": [
    {
     "name": "stdout",
     "output_type": "stream",
     "text": [
      "Letter Count of the word:34\r\n"
     ]
    }
   ],
   "source": [
    "string word = \"Supercalifragilisticexpialidocious\";\n",
    "int count = word.Length;\n",
    "Console.WriteLine(\"Letter Count of the word:\" + count);"
   ]
  },
  {
   "cell_type": "markdown",
   "id": "0fe45bd0",
   "metadata": {},
   "source": [
    "b. Does 'Supercalifragilisticexpialidocious' contain 'ice' as a substring?"
   ]
  },
  {
   "cell_type": "code",
   "execution_count": 3,
   "id": "976dd773",
   "metadata": {},
   "outputs": [
    {
     "name": "stdout",
     "output_type": "stream",
     "text": [
      "Does the word contain the word 'ice': Yes\r\n"
     ]
    }
   ],
   "source": [
    "bool containsIce = word.Contains(\"ice\");\n",
    "Console.WriteLine(\"Does the word contain the word 'ice': \" + (containsIce ? \"Yes\" : \"No\"));"
   ]
  },
  {
   "cell_type": "markdown",
   "id": "2d9df6cf",
   "metadata": {},
   "source": [
    "c. Which of the following words is the longest: Supercalifragilisticexpialidocious, Honorificabilitudinitatibus, or Bababadalgharaghtakamminarronnkonn?"
   ]
  },
  {
   "cell_type": "code",
   "execution_count": 4,
   "id": "bb6b141a",
   "metadata": {},
   "outputs": [
    {
     "name": "stdout",
     "output_type": "stream",
     "text": [
      "Supercalifragilisticexpialidocious\r\n"
     ]
    }
   ],
   "source": [
    "string word1 = \"Supercalifragilisticexpialidocious\";\n",
    "string word2 = \"Honorificabilitudinitatibus\";\n",
    "string word3 = \"Bababadalgharaghtakamminarronnkonn\";\n",
    "\n",
    "Console.WriteLine((word1.Length >= word2.Length && word1.Length >= word3.Length)\n",
    "    ? word1\n",
    "    : (word2.Length >= word1.Length && word2.Length >= word3.Length)\n",
    "        ? word2\n",
    "        : word3);"
   ]
  },
  {
   "cell_type": "markdown",
   "id": "68c9e8f2",
   "metadata": {},
   "source": [
    "d. Which composer comes first in the dictionary: 'Berlioz', 'Borodin', 'Brian', 'Bartok', 'Bellini', 'Buxtehude', 'Bernstein'. Which one comes last?"
   ]
  },
  {
   "cell_type": "code",
   "execution_count": 5,
   "id": "56d7230b",
   "metadata": {},
   "outputs": [
    {
     "name": "stdout",
     "output_type": "stream",
     "text": [
      "First composer is: Berlioz\n",
      "Last composer is: Bernstein\n"
     ]
    }
   ],
   "source": [
    "string[] composers = { \"Berlioz\", \"Borodin\", \"Brian\", \"Bartok\", \"Bellini\", \"Buxtehude\", \"Bernstein\" };\n",
    "\n",
    "string firstComposer = composers[0];\n",
    "string lastComposer = composers[composers.Length - 1];\n",
    "\n",
    "Console.WriteLine(\"First composer is: \" + firstComposer);\n",
    "Console.WriteLine(\"Last composer is: \" + lastComposer);"
   ]
  },
  {
   "cell_type": "markdown",
   "id": "b272bb95",
   "metadata": {},
   "source": [
    "![4-2.png](questions3.png)"
   ]
  },
  {
   "cell_type": "code",
   "execution_count": 6,
   "id": "b16daa72",
   "metadata": {},
   "outputs": [
    {
     "name": "stdout",
     "output_type": "stream",
     "text": [
      "1.7320508075688772\r\n"
     ]
    }
   ],
   "source": [
    "static double triangleArea(double a, double b, double c)\n",
    "{\n",
    "\n",
    "    double s = (a + b + c) / 2;\n",
    "\n",
    "    double area = Math.Sqrt(s * (s - a) * (s - b) * (s - c));\n",
    "\n",
    "    return area;\n",
    "}\n",
    "\n",
    "Console.WriteLine(triangleArea(2, 2, 2));"
   ]
  },
  {
   "cell_type": "markdown",
   "id": "c007dae8",
   "metadata": {},
   "source": [
    "# Question 4 C#\n",
    "Write a program in C# Sharp to separate odd and even integers in separate arrays. Go to the editor\n",
    "Test Data :\n",
    "\n",
    "Input the number of elements to be stored in the array :5 \n",
    "\n",
    "Input 5 elements in the array :\n",
    "\n",
    "element - 0 : 25\n",
    "\n",
    "element - 1 : 47\n",
    "\n",
    "element - 2 : 42\n",
    "\n",
    "element - 3 : 56\n",
    "\n",
    "element - 4 : 32 Expected Output:\n",
    "\n",
    "The Even elements are: 42 56 32\n",
    "\n",
    "The Odd elements are : 25 47"
   ]
  },
  {
   "cell_type": "code",
   "execution_count": 8,
   "id": "3a23aa3a",
   "metadata": {},
   "outputs": [
    {
     "name": "stdout",
     "output_type": "stream",
     "text": [
      "Number of elements to be store in the array: The Even elements are:\n",
      "\n",
      "The Odd elements are:\n"
     ]
    }
   ],
   "source": [
    "Console.Write(\"Number of elements to be store in the array: \");\n",
    "int elementsInArray = Convert.ToInt32(Console.ReadLine());\n",
    "\n",
    "int[] arr = new int[elementsInArray];\n",
    "int[] evenArray = new int[elementsInArray];\n",
    "int[] oddArray = new int[elementsInArray];\n",
    "\n",
    "\n",
    "for (int i = 0; i < elementsInArray; i++)\n",
    "        {\n",
    "            Console.WriteLine($\"Element - {i} : \");\n",
    "            arr[i] = Convert.ToInt32(Console.ReadLine());\n",
    "        }\n",
    "\n",
    "        int evenCount = 0;\n",
    "        int oddCount = 0;\n",
    "\n",
    "        foreach (int num in arr)\n",
    "        {\n",
    "            if (num % 2 == 0)\n",
    "            {\n",
    "                evenArray[evenCount] = num;\n",
    "                evenCount++;\n",
    "            }\n",
    "            else\n",
    "            {\n",
    "                oddArray[oddCount] = num;\n",
    "                oddCount++;\n",
    "            }\n",
    "        }\n",
    "\n",
    "        Console.WriteLine(\"The Even elements are:\");\n",
    "        for (int i = 0; i < evenCount; i++)\n",
    "        {\n",
    "            Console.Write(evenArray[i] + \" \");\n",
    "        }\n",
    "\n",
    "        Console.WriteLine(\"\\nThe Odd elements are:\");\n",
    "        for (int i = 0; i < oddCount; i++)\n",
    "        {\n",
    "            Console.Write(oddArray[i] + \" \");\n",
    "        }\n",
    "//since jupyter is not taking input values, visual studio code was used to run it and the screenshot below is from that terminal        "
   ]
  },
  {
   "attachments": {},
   "cell_type": "markdown",
   "id": "de9b2a06",
   "metadata": {},
   "source": [
    "![4-2.png](output.png)"
   ]
  },
  {
   "cell_type": "markdown",
   "id": "0fbcf79b",
   "metadata": {},
   "source": [
    "# Question 5 C#\n",
    "a. Write a function inside(x,y,x1,y1,x2,y2) that returns True or False depending on whether the point (x,y) lies in the rectangle with lower left corner (x1,y1) and upper right corner (x2,y2)."
   ]
  },
  {
   "cell_type": "code",
   "execution_count": 10,
   "id": "cc945e1b",
   "metadata": {
    "scrolled": true
   },
   "outputs": [
    {
     "name": "stdout",
     "output_type": "stream",
     "text": [
      "True\n",
      "False\n"
     ]
    }
   ],
   "source": [
    "bool inside(double x, double y, double x1, double y1, double x2, double y2)\n",
    "{\n",
    "    return x >= x1 && x <= x2 && y >= y1 && y <= y2;\n",
    "}\n",
    "\n",
    "Console.WriteLine(inside(1, 1, 0, 0, 2, 3));\n",
    "\n",
    "Console.WriteLine(inside(-1, -1, 0, 0, 2, 3));"
   ]
  },
  {
   "cell_type": "markdown",
   "id": "f2d9a881",
   "metadata": {},
   "source": [
    "b. Use function inside() from part a. to write an expression that tests whether the point (1,1) lies in both of the following rectangles: one with lower left corner (0.3, 0.5) and upper right corner (1.1, 0.7) and the other with lower left corner (0.5, 0.2) and upper right corner (1.1, 2)."
   ]
  },
  {
   "cell_type": "code",
   "execution_count": 11,
   "id": "3ce21e2a",
   "metadata": {},
   "outputs": [
    {
     "name": "stdout",
     "output_type": "stream",
     "text": [
      "The Point (1,1) does not lies in both of the rectangles\r\n"
     ]
    }
   ],
   "source": [
    "bool isInsideRectangle1 = inside(1, 1, 0.3, 0.5, 1.1, 0.7);\n",
    "bool isInsideRectangle2 = inside(1, 1, 0.5, 0.2, 1.1, 2);\n",
    "\n",
    "if (isInsideRectangle1 && isInsideRectangle2)\n",
    "{\n",
    "    Console.WriteLine(\"The Point (1,1) lies in both of the rectangles\");\n",
    "}\n",
    "else\n",
    "{\n",
    "    Console.WriteLine(\"The Point (1,1) does not lies in both of the rectangles\");\n",
    "\n",
    "}"
   ]
  },
  {
   "cell_type": "code",
   "execution_count": null,
   "id": "d1387dae",
   "metadata": {},
   "outputs": [],
   "source": []
  }
 ],
 "metadata": {
  "kernelspec": {
   "display_name": ".NET (C#)",
   "language": "C#",
   "name": ".net-csharp"
  },
  "language_info": {
   "file_extension": ".cs",
   "mimetype": "text/x-csharp",
   "name": "C#",
   "pygments_lexer": "csharp",
   "version": "8.0"
  }
 },
 "nbformat": 4,
 "nbformat_minor": 5
}
